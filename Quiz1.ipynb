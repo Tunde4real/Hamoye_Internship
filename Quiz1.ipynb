{
 "cells": [
  {
   "cell_type": "code",
   "execution_count": 31,
   "id": "9efff527",
   "metadata": {},
   "outputs": [],
   "source": [
    "import pandas as pd"
   ]
  },
  {
   "cell_type": "markdown",
   "id": "535c3f0e",
   "metadata": {},
   "source": [
    "## Question 11"
   ]
  },
  {
   "cell_type": "code",
   "execution_count": 36,
   "id": "ac386d2f",
   "metadata": {},
   "outputs": [
    {
     "name": "stdout",
     "output_type": "stream",
     "text": [
      "209460.54 269617.53\n"
     ]
    }
   ],
   "source": [
    "'''What is the total sum of Animal Fat produced in 2014 and 2017 respectively?\n",
    "Hint:\n",
    "Perform a groupby sum aggregation on ‘Item’ '''\n",
    "\n",
    "df = pd.read_csv('FoodBalanceSheets_E_Africa_NOFLAG.csv', encoding='latin-1')\n",
    "y2014 = df.groupby('Item')['Y2014'].sum()\n",
    "y2017 = df.groupby('Item')['Y2017'].sum()\n",
    "print(y2014['Animal fats'], y2017['Animal fats'])"
   ]
  },
  {
   "cell_type": "markdown",
   "id": "d0d9de06",
   "metadata": {},
   "source": [
    "## Question 12"
   ]
  },
  {
   "cell_type": "code",
   "execution_count": 40,
   "id": "b829f867",
   "metadata": {},
   "outputs": [
    {
     "name": "stdout",
     "output_type": "stream",
     "text": [
      "135.23596649549236 1603.4039839423301\n"
     ]
    }
   ],
   "source": [
    "''' What is the mean and standard deviation across the whole dataset for the year 2015 to 3 decimal places? '''\n",
    "\n",
    "print(df['Y2015'].mean(), df['Y2015'].std())"
   ]
  },
  {
   "cell_type": "markdown",
   "id": "fbe538cf",
   "metadata": {},
   "source": [
    "## Question 13"
   ]
  },
  {
   "cell_type": "code",
   "execution_count": 42,
   "id": "4ff2363b",
   "metadata": {},
   "outputs": [
    {
     "name": "stdout",
     "output_type": "stream",
     "text": [
      "1535 2.5187470259094566\n"
     ]
    }
   ],
   "source": [
    "'''What is the total number and percentage of missing data in 2016 to 2 decimal places?'''\n",
    "\n",
    "x = df['Y2016'].isnull().sum()\n",
    "print(x, (x/len(df['Y2016'])) * 100)"
   ]
  },
  {
   "cell_type": "markdown",
   "id": "2eaa00e1",
   "metadata": {},
   "source": [
    "## Question 14"
   ]
  },
  {
   "cell_type": "code",
   "execution_count": 58,
   "id": "74f4a686",
   "metadata": {},
   "outputs": [
    {
     "name": "stdout",
     "output_type": "stream",
     "text": [
      "0.024456819495221736 0.02388919930163995 0.02344399758496138 0.024254007760045757 0.02427857195351954\n"
     ]
    }
   ],
   "source": [
    "''' Which year had the highest correlation with ‘Element Code’? '''\n",
    "\n",
    "elem_code = df['Element Code']\n",
    "print(elem_code.corr(df['Y2014']), elem_code.corr(df['Y2015']), elem_code.corr(df['Y2016']), elem_code.corr(df['Y2017']), elem_code.corr(df['Y2018']))\n",
    "# ans == 2014"
   ]
  },
  {
   "cell_type": "markdown",
   "id": "e2ae7ac8",
   "metadata": {},
   "source": [
    "## Question 15"
   ]
  },
  {
   "cell_type": "code",
   "execution_count": 62,
   "id": "abd0225e",
   "metadata": {},
   "outputs": [
    {
     "name": "stdout",
     "output_type": "stream",
     "text": [
      "1931287.75 1947019.39 1943537.15 2030056.89 2075072.89\n"
     ]
    }
   ],
   "source": [
    "''' What year has the highest sum of Import Quantity?\n",
    "Hint- Perform a groupby operation on ‘Element’ and use the resulting Dataframe to answer the question '''\n",
    "\n",
    "y2014 = df.groupby('Element')['Y2014'].sum()['Production']\n",
    "y2015 = df.groupby('Element')['Y2015'].sum()['Production']\n",
    "y2016 = df.groupby('Element')['Y2016'].sum()['Production']\n",
    "y2017 = df.groupby('Element')['Y2017'].sum()['Production']\n",
    "y2018 = df.groupby('Element')['Y2018'].sum()['Production']\n",
    "print(y2014, y2015, y2016, y2017, y2018)\n",
    "# ans == 2018"
   ]
  },
  {
   "cell_type": "markdown",
   "id": "ebe32058",
   "metadata": {},
   "source": [
    "## Question 16"
   ]
  },
  {
   "cell_type": "code",
   "execution_count": 60,
   "id": "9f646506",
   "metadata": {},
   "outputs": [
    {
     "name": "stdout",
     "output_type": "stream",
     "text": [
      "274144.48 267018.46 286582.78 294559.09 287997.09\n"
     ]
    }
   ],
   "source": [
    "''' What is the total number of the sum of Production in 2014?\n",
    "Hint- Perform a groupby operation on ‘Element’ and use the resulting Dataframe to answer the question '''\n",
    "\n",
    "y2014 = df.groupby('Element')['Y2014'].sum()['Import Quantity']\n",
    "y2015 = df.groupby('Element')['Y2015'].sum()['Import Quantity']\n",
    "y2016 = df.groupby('Element')['Y2016'].sum()['Import Quantity']\n",
    "y2017 = df.groupby('Element')['Y2017'].sum()['Import Quantity']\n",
    "y2018 = df.groupby('Element')['Y2018'].sum()['Import Quantity']\n",
    "print(y2014, y2015, y2016, y2017, y2018)\n",
    "# ans == 2017"
   ]
  },
  {
   "cell_type": "markdown",
   "id": "f1383534",
   "metadata": {},
   "source": [
    "## Question 17"
   ]
  },
  {
   "cell_type": "code",
   "execution_count": 68,
   "id": "4e1bb762",
   "metadata": {},
   "outputs": [
    {
     "data": {
      "text/plain": [
       "Element\n",
       "Domestic supply quantity                  5295\n",
       "Export Quantity                           4403\n",
       "Fat supply quantity (g/capita/day)        5023\n",
       "Feed                                      1319\n",
       "Food                                      4941\n",
       "Food supply (kcal/capita/day)             5014\n",
       "Food supply quantity (kg/capita/yr)       4905\n",
       "Import Quantity                           5139\n",
       "Losses                                    2009\n",
       "Other uses (non-food)                     1732\n",
       "Processing                                2010\n",
       "Production                                3881\n",
       "Protein supply quantity (g/capita/day)    5023\n",
       "Residuals                                 4655\n",
       "Seed                                       762\n",
       "Stock Variation                           4232\n",
       "Total Population - Both sexes               45\n",
       "Tourist consumption                        555\n",
       "Name: Element, dtype: int64"
      ]
     },
     "execution_count": 68,
     "metadata": {},
     "output_type": "execute_result"
    }
   ],
   "source": [
    "''' Which of these elements had the highest sum in 2018?\n",
    "Hint-  Select columns ‘Y2018’ and ‘Element’, Perform a groupby operation on ‘Element’ on the selected dataframe and answer the  \n",
    "question.'''\n",
    "\n",
    "new_df = pd.DataFrame()\n",
    "new_df['Element'] = df['Element']\n",
    "new_df['Y2018'] = df['Y2018']\n",
    "new_df.groupby('Element')['Element'].count()\n",
    "# Element with maximum value is 'Domestic supply quantity'"
   ]
  },
  {
   "cell_type": "markdown",
   "id": "d661904c",
   "metadata": {},
   "source": [
    "## Question 18\n",
    "#### Which of these elements had the 3rd lowest sum in 2018?\n",
    "#### From the dataframe above, the answer is \"Seed\"\n"
   ]
  },
  {
   "cell_type": "markdown",
   "id": "e5a628da",
   "metadata": {},
   "source": [
    "## Question 19"
   ]
  },
  {
   "cell_type": "code",
   "execution_count": 81,
   "id": "c09a3d3c",
   "metadata": {},
   "outputs": [
    {
     "data": {
      "text/plain": [
       "Element\n",
       "Domestic supply quantity                  90023.42\n",
       "Export Quantity                             811.54\n",
       "Fat supply quantity (g/capita/day)          309.09\n",
       "Feed                                      10668.00\n",
       "Food                                      63736.33\n",
       "Food supply (kcal/capita/day)             13288.00\n",
       "Food supply quantity (kg/capita/yr)        1509.28\n",
       "Import Quantity                           36238.29\n",
       "Losses                                     7708.00\n",
       "Other uses (non-food)                      3970.08\n",
       "Processing                                 2479.00\n",
       "Production                                60766.67\n",
       "Protein supply quantity (g/capita/day)      367.28\n",
       "Residuals                                   630.00\n",
       "Seed                                        825.00\n",
       "Stock Variation                            6172.00\n",
       "Total Population - Both sexes             42228.00\n",
       "Name: Y2018, dtype: float64"
      ]
     },
     "execution_count": 81,
     "metadata": {},
     "output_type": "execute_result"
    }
   ],
   "source": [
    "''' What is the total Import Quantity in Algeria in 2018? '''\n",
    "\n",
    "new_df = pd.DataFrame()\n",
    "Element = []\n",
    "Y2018 = []\n",
    "for i in range(len(df)):\n",
    "    row = df.iloc[i]\n",
    "    if row['Area'] == 'Algeria':\n",
    "        Element += [row['Element']]\n",
    "        Y2018 += [row['Y2018']]\n",
    "new_df['Element'] = Element\n",
    "new_df['Y2018'] = Y2018\n",
    "new_df.groupby('Element')['Y2018'].sum()\n",
    "\n",
    "# answer == 36238.29"
   ]
  },
  {
   "cell_type": "markdown",
   "id": "a8ecbdec",
   "metadata": {},
   "source": [
    "## Question 20"
   ]
  },
  {
   "cell_type": "code",
   "execution_count": 76,
   "id": "098b58a7",
   "metadata": {},
   "outputs": [
    {
     "name": "stdout",
     "output_type": "stream",
     "text": [
      "49\n"
     ]
    }
   ],
   "source": [
    "''' What is the total number of unique countries in the dataset? '''\n",
    "\n",
    "print(len(df.groupby('Area')['Area'].count()))"
   ]
  }
 ],
 "metadata": {
  "kernelspec": {
   "display_name": "Python 3 (ipykernel)",
   "language": "python",
   "name": "python3"
  },
  "language_info": {
   "codemirror_mode": {
    "name": "ipython",
    "version": 3
   },
   "file_extension": ".py",
   "mimetype": "text/x-python",
   "name": "python",
   "nbconvert_exporter": "python",
   "pygments_lexer": "ipython3",
   "version": "3.9.7"
  }
 },
 "nbformat": 4,
 "nbformat_minor": 5
}
